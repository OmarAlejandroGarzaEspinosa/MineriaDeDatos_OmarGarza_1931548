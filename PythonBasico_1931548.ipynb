{
 "cells": [
  {
   "cell_type": "markdown",
   "metadata": {},
   "source": [
    "# Omar Alejandro Garza Espinosa 1931548"
   ]
  },
  {
   "cell_type": "markdown",
   "metadata": {},
   "source": [
    "# Ejercicio Básicos en Python"
   ]
  },
  {
   "cell_type": "code",
   "execution_count": 1,
   "metadata": {},
   "outputs": [
    {
     "name": "stdout",
     "output_type": "stream",
     "text": [
      "HOLA, ¿COMO ESTAS?\n"
     ]
    }
   ],
   "source": [
    "print(\"HOLA, ¿COMO ESTAS?\")"
   ]
  },
  {
   "cell_type": "markdown",
   "metadata": {},
   "source": [
    "# Ejercicio 1"
   ]
  },
  {
   "cell_type": "markdown",
   "metadata": {},
   "source": [
    "## Realiza una variable con tu matricula y realiza una secuencia de imprimir con tu nombre y tu matricula concatenados"
   ]
  },
  {
   "cell_type": "code",
   "execution_count": 4,
   "metadata": {},
   "outputs": [
    {
     "name": "stdout",
     "output_type": "stream",
     "text": [
      "Omar Alejandro Garza Espinosa 1931548\n"
     ]
    }
   ],
   "source": [
    "n = \"Omar Alejandro Garza Espinosa\"\n",
    "m = \"1931548\"\n",
    "print (n,m)"
   ]
  },
  {
   "cell_type": "markdown",
   "metadata": {},
   "source": [
    "# Ejercicio 2"
   ]
  },
  {
   "cell_type": "markdown",
   "metadata": {},
   "source": [
    "## Pidiendo el input del usuario pide dos números y crea una pequeña calculadora con los operadores básicos de suma, resta, multiplicación, división, y exponente.\n",
    "## Utilizando el loop de while"
   ]
  },
  {
   "cell_type": "code",
   "execution_count": 74,
   "metadata": {},
   "outputs": [
    {
     "name": "stdout",
     "output_type": "stream",
     "text": [
      "CALCULADORA\n",
      "\n",
      "1.Suma\n",
      "2.Resta\n",
      "3.Multiplicacion\n",
      "4.Division\n",
      "5.Exponente\n",
      "6.Salir\n",
      "\n"
     ]
    },
    {
     "name": "stdin",
     "output_type": "stream",
     "text": [
      "Escriba el primer número:  2\n",
      "Escriba el segundo número:  2\n",
      "\n",
      "Escriba el número de la operacion que quiere realizar: 1\n"
     ]
    },
    {
     "name": "stdout",
     "output_type": "stream",
     "text": [
      "Resultado:  4\n"
     ]
    },
    {
     "name": "stdin",
     "output_type": "stream",
     "text": [
      "\n",
      "Escriba el número de la operacion que quiere realizar: 4\n"
     ]
    },
    {
     "name": "stdout",
     "output_type": "stream",
     "text": [
      "Resultado:  1.0\n"
     ]
    },
    {
     "name": "stdin",
     "output_type": "stream",
     "text": [
      "\n",
      "Escriba el número de la operacion que quiere realizar: 3\n"
     ]
    },
    {
     "name": "stdout",
     "output_type": "stream",
     "text": [
      "Resultado:  4\n"
     ]
    },
    {
     "name": "stdin",
     "output_type": "stream",
     "text": [
      "\n",
      "Escriba el número de la operacion que quiere realizar: 2\n"
     ]
    },
    {
     "name": "stdout",
     "output_type": "stream",
     "text": [
      "Resultado:  0\n"
     ]
    },
    {
     "name": "stdin",
     "output_type": "stream",
     "text": [
      "\n",
      "Escriba el número de la operacion que quiere realizar: 5\n"
     ]
    },
    {
     "name": "stdout",
     "output_type": "stream",
     "text": [
      "Resultado:  4\n"
     ]
    },
    {
     "name": "stdin",
     "output_type": "stream",
     "text": [
      "\n",
      "Escriba el número de la operacion que quiere realizar: 6\n"
     ]
    }
   ],
   "source": [
    "print(\"CALCULADORA\\n\")\n",
    "print(\"1.Suma\\n2.Resta\\n3.Multiplicacion\\n4.Division\\n5.Exponente\\n6.Salir\\n\")\n",
    "n1=int(input(\"Escriba el primer número: \"))\n",
    "n2=int(input(\"Escriba el segundo número: \"))\n",
    "opc=1\n",
    "while opc!=6:\n",
    "    opc=int(input(\"\\nEscriba el número de la operacion que quiere realizar:\"))\n",
    "    if opc==1:\n",
    "        res=n1+n2\n",
    "    if opc==2:\n",
    "        res=n1-n2\n",
    "    if opc==3:\n",
    "        res=n1*n2\n",
    "    if opc==4:\n",
    "        res=n1/n2\n",
    "    if opc==5:\n",
    "        res=n1**n2\n",
    "    if opc!=6:\n",
    "        print(\"Resultado: \",res)\n",
    "    "
   ]
  },
  {
   "cell_type": "markdown",
   "metadata": {},
   "source": [
    "# Ejercicio 3"
   ]
  },
  {
   "cell_type": "markdown",
   "metadata": {},
   "source": [
    "## Con loop while o for, realiza una lista de 10 numeros multiplos de 3, y después realiza una función de loop que sume todos los números dentro del arreglo."
   ]
  },
  {
   "cell_type": "code",
   "execution_count": 27,
   "metadata": {},
   "outputs": [
    {
     "name": "stdout",
     "output_type": "stream",
     "text": [
      "[3, 6, 9, 12, 15, 18, 21, 24, 27, 30]\n",
      "La suma de todos estos numeros es:  165\n"
     ]
    }
   ],
   "source": [
    "suma=0\n",
    "vectorlista=[]\n",
    "for i in range(1,11):\n",
    "    vectorlista.append((i*3))\n",
    "    suma=suma+vectorlista[i-1]\n",
    "    \n",
    "print(vectorlista)    \n",
    "print(\"La suma de todos estos numeros es: \",suma)\n",
    "    "
   ]
  },
  {
   "cell_type": "markdown",
   "metadata": {},
   "source": [
    "# Ejercicio 4 "
   ]
  },
  {
   "cell_type": "markdown",
   "metadata": {},
   "source": [
    "## Con una función de if else, revisar si un número es par o es impar.\n",
    "## Con una función de if else, revisar si un número es primo o no.\n"
   ]
  },
  {
   "cell_type": "code",
   "execution_count": 40,
   "metadata": {},
   "outputs": [
    {
     "name": "stdin",
     "output_type": "stream",
     "text": [
      "Escriba el número:  9\n"
     ]
    },
    {
     "name": "stdout",
     "output_type": "stream",
     "text": [
      "El numero:  9  es impar\n",
      "El numero:  9  es no primo\n"
     ]
    }
   ],
   "source": [
    "a=int(input(\"Escriba el número: \"))\n",
    "if a%2==0:\n",
    "    print(\"El numero: \",a,\" es par\")\n",
    "else:\n",
    "     print(\"El numero: \",a,\" es impar\")\n",
    "\n",
    "c=0\n",
    "for i in range(1,a+1):\n",
    "    if a%i==0:\n",
    "        c=c+1\n",
    "if c==2:\n",
    "    print(\"El numero: \",a,\" es primo\")\n",
    "else:\n",
    "    print(\"El numero: \",a,\" es no primo\")"
   ]
  },
  {
   "cell_type": "markdown",
   "metadata": {},
   "source": [
    "# Ejercicio 5"
   ]
  },
  {
   "cell_type": "markdown",
   "metadata": {},
   "source": [
    "## Utilizando diferentes clases en python, crea una calculadora con los operadores básicos de suma, resta, multiplicación, división, y exponente.\n"
   ]
  },
  {
   "cell_type": "code",
   "execution_count": 75,
   "metadata": {},
   "outputs": [
    {
     "name": "stdout",
     "output_type": "stream",
     "text": [
      "CALCULADORA\n",
      "\n",
      "1.Suma\n",
      "2.Resta\n",
      "3.Multiplicacion\n",
      "4.Division\n",
      "5.Exponente\n",
      "6.Salir\n",
      "\n"
     ]
    },
    {
     "name": "stdin",
     "output_type": "stream",
     "text": [
      "Escriba el primer número:  3\n",
      "Escriba el segundo número:  4\n",
      "\n",
      "Escriba el número de la operacion que quiere realizar: 4\n"
     ]
    },
    {
     "name": "stdout",
     "output_type": "stream",
     "text": [
      "Resultado:  0.75\n"
     ]
    },
    {
     "name": "stdin",
     "output_type": "stream",
     "text": [
      "\n",
      "Escriba el número de la operacion que quiere realizar: 3\n"
     ]
    },
    {
     "name": "stdout",
     "output_type": "stream",
     "text": [
      "Resultado:  12\n"
     ]
    },
    {
     "name": "stdin",
     "output_type": "stream",
     "text": [
      "\n",
      "Escriba el número de la operacion que quiere realizar: 1\n"
     ]
    },
    {
     "name": "stdout",
     "output_type": "stream",
     "text": [
      "Resultado:  7\n"
     ]
    },
    {
     "name": "stdin",
     "output_type": "stream",
     "text": [
      "\n",
      "Escriba el número de la operacion que quiere realizar: 2\n"
     ]
    },
    {
     "name": "stdout",
     "output_type": "stream",
     "text": [
      "Resultado:  -1\n"
     ]
    },
    {
     "name": "stdin",
     "output_type": "stream",
     "text": [
      "\n",
      "Escriba el número de la operacion que quiere realizar: 5\n"
     ]
    },
    {
     "name": "stdout",
     "output_type": "stream",
     "text": [
      "Resultado:  81\n"
     ]
    },
    {
     "name": "stdin",
     "output_type": "stream",
     "text": [
      "\n",
      "Escriba el número de la operacion que quiere realizar: 6\n"
     ]
    }
   ],
   "source": [
    "print(\"CALCULADORA\\n\")\n",
    "print(\"1.Suma\\n2.Resta\\n3.Multiplicacion\\n4.Division\\n5.Exponente\\n6.Salir\\n\")\n",
    "n1=int(input(\"Escriba el primer número: \"))\n",
    "n2=int(input(\"Escriba el segundo número: \"))\n",
    "opc=1\n",
    "def Suma (a,b):\n",
    "    c=a+b\n",
    "    return c\n",
    "def Resta (a,b):\n",
    "    c=a-b\n",
    "    return c\n",
    "def Multiplicacion (a,b):\n",
    "    c=a*b\n",
    "    return c\n",
    "def Division (a,b):\n",
    "    c=a/b\n",
    "    return c\n",
    "def Exponente (a,b):\n",
    "    c=a**b\n",
    "    return c\n",
    "\n",
    "while opc!=6:\n",
    "    opc=int(input(\"\\nEscriba el número de la operacion que quiere realizar:\"))\n",
    "    if opc==1:\n",
    "        print(\"Resultado: \",Suma(n1,n2))\n",
    "    if opc==2:\n",
    "        print(\"Resultado: \",Resta(n1,n2))\n",
    "    if opc==3:\n",
    "        print(\"Resultado: \",Multiplicacion(n1,n2))\n",
    "    if opc==4:\n",
    "        print(\"Resultado: \",Division(n1,n2))\n",
    "    if opc==5:\n",
    "        print(\"Resultado: \",Exponente(n1,n2))"
   ]
  },
  {
   "cell_type": "markdown",
   "metadata": {},
   "source": [
    "# Ejercicios con estructuras basicas en Python"
   ]
  },
  {
   "cell_type": "markdown",
   "metadata": {},
   "source": [
    "# Tuplas"
   ]
  },
  {
   "cell_type": "markdown",
   "metadata": {},
   "source": [
    "## Crear una variable flotante, integer, boleana y compleja e imprimir el tipo de variable que es"
   ]
  },
  {
   "cell_type": "code",
   "execution_count": 44,
   "metadata": {},
   "outputs": [
    {
     "name": "stdout",
     "output_type": "stream",
     "text": [
      "<class 'float'> <class 'int'> <class 'bool'> <class 'complex'>\n"
     ]
    }
   ],
   "source": [
    "vflotante=3.4\n",
    "ventero=20\n",
    "vbooleana=True\n",
    "vcompleja=3j+4\n",
    "\n",
    "print(type(vflotante),type(ventero),type(vbooleana),type(vcompleja))"
   ]
  },
  {
   "cell_type": "markdown",
   "metadata": {},
   "source": [
    "## Crear una tupla con valores enteros imprimir el primer y ultimo valor"
   ]
  },
  {
   "cell_type": "code",
   "execution_count": 47,
   "metadata": {},
   "outputs": [
    {
     "name": "stdout",
     "output_type": "stream",
     "text": [
      "El primer valor entero de la tupla es:  9  y El ultimo valor entero de la tupla es:  5\n"
     ]
    }
   ],
   "source": [
    "tupla=(9,2,4,0,8,3,6,1,7,5)           #https://entrenamiento-python-basico.readthedocs.io/es/latest/leccion3/tipo_listas.html\n",
    "print(\"El primer valor entero de la tupla es: \",tupla[-len(tupla)], \" y El ultimo valor entero de la tupla es: \",tupla[-1])"
   ]
  },
  {
   "cell_type": "markdown",
   "metadata": {},
   "source": [
    "## Añadir 3 valores de string a la tupla"
   ]
  },
  {
   "cell_type": "code",
   "execution_count": 51,
   "metadata": {},
   "outputs": [
    {
     "name": "stdout",
     "output_type": "stream",
     "text": [
      "(9, 2, 4, 0, 8, 3, 6, 1, 7, 5, 'Hola', 'como', 'estas')\n"
     ]
    }
   ],
   "source": [
    "tupla=(9,2,4,0,8,3,6,1,7,5)   \n",
    "tupla=tupla+(\"Hola\",\"como\",\"estas\")\n",
    "print(tupla)"
   ]
  },
  {
   "cell_type": "markdown",
   "metadata": {},
   "source": [
    "## Verificar si una variable existe dentro de la tupla"
   ]
  },
  {
   "cell_type": "code",
   "execution_count": 63,
   "metadata": {},
   "outputs": [
    {
     "name": "stdin",
     "output_type": "stream",
     "text": [
      "Escribe la variable que quiere verificar si existe dentro de la tupla:  2\n"
     ]
    },
    {
     "name": "stdout",
     "output_type": "stream",
     "text": [
      "La variable existe dentro de la tupla\n"
     ]
    }
   ],
   "source": [
    "tupla=(9,2,4,0,8,3,6,1,7,5)          #https://parzibyte.me/blog/2018/04/17/python-comprobar-elemento-valor-existe-lista-arreglo/\n",
    "x=int(input(\"Escribe la variable que quiere verificar si existe dentro de la tupla: \"))\n",
    "if x in tupla:\n",
    "    print(\"La variable existe dentro de la tupla\")\n",
    "else:\n",
    "    print(\"La variable No existe dentro de la tupla\")"
   ]
  },
  {
   "cell_type": "markdown",
   "metadata": {},
   "source": [
    "# Listas"
   ]
  },
  {
   "cell_type": "markdown",
   "metadata": {},
   "source": [
    "## Crear una lista con 40 elementos aleatorios enteros"
   ]
  },
  {
   "cell_type": "code",
   "execution_count": 23,
   "metadata": {},
   "outputs": [
    {
     "name": "stdout",
     "output_type": "stream",
     "text": [
      "[70, 44, 94, 57, 39, 29, 96, 66, 3, 24, 100, 66, 58, 9, 54, 58, 94, 54, 14, 77, 70, 79, 93, 83, 52, 2, 89, 71, 100, 62, 86, 46, 43, 73, 36, 6, 92, 47, 4, 27]\n"
     ]
    }
   ],
   "source": [
    "import random as alea\n",
    "lista=[]\n",
    "for i in range(1,41):\n",
    "    lista.append(alea.randint(1,100))\n",
    "print(lista)"
   ]
  },
  {
   "cell_type": "markdown",
   "metadata": {},
   "source": [
    "## Con una funcion (def) crear dos listas nuevas a partir de la lista creada por numeros aleatorios, en la cual en una esten los elementos pares, y en la otra los elementos impares."
   ]
  },
  {
   "cell_type": "code",
   "execution_count": 24,
   "metadata": {},
   "outputs": [
    {
     "name": "stdout",
     "output_type": "stream",
     "text": [
      "Lista de elementos pares:  [70, 44, 94, 96, 66, 24, 100, 66, 58, 54, 58, 94, 54, 14, 70, 52, 2, 100, 62, 86, 46, 36, 6, 92, 4] \n",
      "\n",
      "Lista de elementos impares:  [57, 39, 29, 3, 9, 77, 79, 93, 83, 89, 71, 43, 73, 47, 27]\n"
     ]
    }
   ],
   "source": [
    "def ListasPI(lista):\n",
    "    par=[]\n",
    "    impar=[]\n",
    "    for i in range(len(lista)):\n",
    "        if lista[i]%2==0:\n",
    "            par.append(lista[i])\n",
    "        else:\n",
    "            impar.append(lista[i])\n",
    "    return par,impar\n",
    "par,impar=ListasPI(lista)\n",
    "print(\"Lista de elementos pares: \", par,\"\\n\\nLista de elementos impares: \",impar)"
   ]
  },
  {
   "cell_type": "markdown",
   "metadata": {},
   "source": [
    "## Crear dos variables con la longitud de ambas listas nuevas e imprimir las variables"
   ]
  },
  {
   "cell_type": "code",
   "execution_count": 25,
   "metadata": {},
   "outputs": [
    {
     "name": "stdout",
     "output_type": "stream",
     "text": [
      "Longitud de la lista de elementos pares:  25 \n",
      "Longitud de la lista de elementos impares:  15\n"
     ]
    }
   ],
   "source": [
    "lp=len(par)\n",
    "li=len(impar)\n",
    "print(\"Longitud de la lista de elementos pares: \",lp,\"\\nLongitud de la lista de elementos impares: \",li)"
   ]
  },
  {
   "cell_type": "markdown",
   "metadata": {},
   "source": [
    "## Ordenar los elementos de la lista par de mayor a menor, y los de la lista impar de menor a mayor"
   ]
  },
  {
   "cell_type": "code",
   "execution_count": 26,
   "metadata": {},
   "outputs": [
    {
     "name": "stdout",
     "output_type": "stream",
     "text": [
      "Lista de elementos pares:  [100, 100, 96, 94, 94, 92, 86, 70, 70, 66, 66, 62, 58, 58, 54, 54, 52, 46, 44, 36, 24, 14, 6, 4, 2] \n",
      "\n",
      "Lista de elementos impares:  [3, 9, 27, 29, 39, 43, 47, 57, 71, 73, 77, 79, 83, 89, 93]\n"
     ]
    }
   ],
   "source": [
    "par.sort(reverse=True)       #https://entrenamiento-python-basico.readthedocs.io/es/latest/leccion3/tipo_listas.html\n",
    "impar.sort()\n",
    "print(\"Lista de elementos pares: \", par,\"\\n\\nLista de elementos impares: \",impar)"
   ]
  },
  {
   "cell_type": "markdown",
   "metadata": {},
   "source": [
    "## Utilizar al menos cuatro de las funciones de listas en python en la lista original de 40 elementos pendiente"
   ]
  },
  {
   "cell_type": "code",
   "execution_count": 27,
   "metadata": {},
   "outputs": [
    {
     "name": "stdout",
     "output_type": "stream",
     "text": [
      "[70, 44, 94, 57, 39, 29, 96, 66, 3, 24, 100, 66, 58, 9, 54, 58, 94, 54, 14, 77, 70, 79, 93, 83, 52, 2, 89, 71, 100, 62, 86, 46, 43, 73, 36, 6, 92, 47, 4, 27]\n",
      "Hay  0  numeros del numero 22\n",
      "Hay  0  numeros del numero 16\n",
      "Hay  1  numeros del numero 1\n",
      "Hay  0  numeros del numero 2\n"
     ]
    }
   ],
   "source": [
    "print(lista)  #https://entrenamiento-python-basico.readthedocs.io/es/latest/leccion3/tipo_listas.html\n",
    "print(\"Hay \",lista.count(22),\" numeros del numero 22\")\n",
    "print(\"Hay \",lista.count(16),\" numeros del numero 16\")\n",
    "print(\"Hay \",lista.count(52),\" numeros del numero 1\")\n",
    "print(\"Hay \",lista.count(21),\" numeros del numero 2\")"
   ]
  },
  {
   "cell_type": "code",
   "execution_count": 28,
   "metadata": {},
   "outputs": [
    {
     "name": "stdout",
     "output_type": "stream",
     "text": [
      "[70, 44, 94, 57, 39, 29, 96, 66, 3, 24, 100, 66, 58, 9, 54, 58, 94, 54, 14, 77, 70, 79, 93, 83, 52, 2, 89, 71, 100, 62, 86, 46, 43, 73, 36, 6, 92, 47, 4, 27] \n",
      "\n",
      "[70, 44, 10000, 94, 57, 39, 29, 96, 66, 3, 24, 100, 66, 58, 9, 54, 58, 94, 54, 14, 77, 70, 79, 93, 83, 52, 2, 89, 71, 100, 62, 86, 46, 43, 73, 36, 6, 92, 47, 4, 27]\n"
     ]
    }
   ],
   "source": [
    "print(lista,\"\\n\") #https://entrenamiento-python-basico.readthedocs.io/es/latest/leccion3/tipo_listas.html\n",
    "lista.insert(2,10000)\n",
    "print(lista)"
   ]
  },
  {
   "cell_type": "code",
   "execution_count": 29,
   "metadata": {},
   "outputs": [
    {
     "name": "stdout",
     "output_type": "stream",
     "text": [
      "[70, 44, 10000, 94, 57, 39, 29, 96, 66, 3, 24, 100, 66, 58, 9, 54, 58, 94, 54, 14, 77, 70, 79, 93, 83, 52, 2, 89, 71, 100, 62, 86, 46, 43, 73, 36, 6, 92, 47, 4, 27] \n",
      "\n",
      "[70, 44, 10000, 94, 57, 39, 29, 96, 66, 3, 24, 100, 66, 58, 9, 54, 58, 94, 54, 14, 77, 70, 79, 93, 83, 52, 2, 89, 71, 100, 62, 86, 46, 43, 73, 36, 6, 92, 47, 4]\n"
     ]
    }
   ],
   "source": [
    "print(lista,\"\\n\")   #https://entrenamiento-python-basico.readthedocs.io/es/latest/leccion3/tipo_listas.html\n",
    "lista.pop()\n",
    "print(lista)"
   ]
  },
  {
   "cell_type": "code",
   "execution_count": 30,
   "metadata": {},
   "outputs": [
    {
     "name": "stdout",
     "output_type": "stream",
     "text": [
      "[70, 44, 10000, 94, 57, 39, 29, 96, 66, 3, 24, 100, 66, 58, 9, 54, 58, 94, 54, 14, 77, 70, 79, 93, 83, 52, 2, 89, 71, 100, 62, 86, 46, 43, 73, 36, 6, 92, 47, 4] \n",
      "\n",
      "[70, 44, 94, 57, 39, 29, 96, 66, 3, 24, 100, 66, 58, 9, 54, 58, 94, 54, 14, 77, 70, 79, 93, 83, 52, 2, 89, 71, 100, 62, 86, 46, 43, 73, 36, 6, 92, 47, 4]\n"
     ]
    }
   ],
   "source": [
    "print(lista,\"\\n\")   #https://entrenamiento-python-basico.readthedocs.io/es/latest/leccion3/tipo_listas.html\n",
    "lista.remove(10000)\n",
    "print(lista)"
   ]
  },
  {
   "cell_type": "markdown",
   "metadata": {},
   "source": [
    "# Diccionarios"
   ]
  },
  {
   "cell_type": "markdown",
   "metadata": {},
   "source": [
    "## Crear un diccionario de 6 personas que conozcas con su primer nombre y su edad"
   ]
  },
  {
   "cell_type": "code",
   "execution_count": 86,
   "metadata": {},
   "outputs": [
    {
     "name": "stdout",
     "output_type": "stream",
     "text": [
      "{'Mariana': 27, 'Daniel': 31, 'Ricardo': 21, 'Armando': 22, 'Gabriel': 21, 'Ana': 21}\n"
     ]
    }
   ],
   "source": [
    "diccionario={\"Mariana\":27,\"Daniel\":31,\"Ricardo\":21,\"Armando\":22,\"Gabriel\":21,\"Ana\":21}    #https://devcode.la/tutoriales/diccionarios-en-python/\n",
    "print(diccionario)"
   ]
  },
  {
   "cell_type": "markdown",
   "metadata": {},
   "source": [
    "## Crear una lista con los valores de la edad y reacomodar la lista de menor a mayor valor"
   ]
  },
  {
   "cell_type": "code",
   "execution_count": 87,
   "metadata": {},
   "outputs": [
    {
     "name": "stdout",
     "output_type": "stream",
     "text": [
      "[21, 21, 21, 22, 27, 31]\n"
     ]
    }
   ],
   "source": [
    "edad=[i for i in diccionario.values()]\n",
    "edad.sort()\n",
    "print(edad)"
   ]
  },
  {
   "cell_type": "markdown",
   "metadata": {},
   "source": [
    "## Usando el diccionario y un loop, imprimir solo los nombres"
   ]
  },
  {
   "cell_type": "code",
   "execution_count": 89,
   "metadata": {},
   "outputs": [
    {
     "name": "stdout",
     "output_type": "stream",
     "text": [
      "Mariana\n",
      "Daniel\n",
      "Ricardo\n",
      "Armando\n",
      "Gabriel\n",
      "Ana\n"
     ]
    }
   ],
   "source": [
    "for i in diccionario:\n",
    "    print(i)"
   ]
  },
  {
   "cell_type": "markdown",
   "metadata": {},
   "source": [
    "## Añadir dos personas nuevas a tu diccionario, incluyendo edad"
   ]
  },
  {
   "cell_type": "code",
   "execution_count": 95,
   "metadata": {},
   "outputs": [
    {
     "name": "stdout",
     "output_type": "stream",
     "text": [
      "{'Mariana': 27, 'Daniel': 31, 'Ricardo': 21, 'Armando': 22, 'Gabriel': 21, 'Ana': 21, 'Paulina': 17, 'Diego': 15}\n"
     ]
    }
   ],
   "source": [
    "diccionario[\"Paulina\"]=17\n",
    "diccionario[\"Diego\"]=15\n",
    "print(diccionario)"
   ]
  },
  {
   "cell_type": "markdown",
   "metadata": {},
   "source": [
    "# Sets"
   ]
  },
  {
   "cell_type": "markdown",
   "metadata": {},
   "source": [
    "## Crea un set con 100 numeros aleatorios enteros del 1 al 25"
   ]
  },
  {
   "cell_type": "code",
   "execution_count": 96,
   "metadata": {},
   "outputs": [
    {
     "name": "stdout",
     "output_type": "stream",
     "text": [
      "[23, 25, 14, 6, 2, 15, 12, 9, 7, 9, 19, 16, 14, 25, 1, 4, 16, 9, 11, 25, 24, 21, 11, 10, 3, 25, 21, 13, 4, 10, 18, 14, 11, 5, 14, 5, 4, 7, 21, 20, 25, 19, 11, 18, 12, 20, 7, 16, 22, 25, 6, 3, 24, 20, 3, 24, 11, 1, 5, 6, 5, 6, 18, 16, 12, 12, 18, 6, 16, 12, 25, 8, 24, 2, 17, 8, 7, 24, 16, 3, 4, 4, 24, 24, 9, 11, 4, 18, 17, 16, 14, 22, 13, 15, 9, 10, 8, 24, 10, 21]\n"
     ]
    }
   ],
   "source": [
    "conjunto=[]\n",
    "for i in range(1,101):\n",
    "    conjunto.append(alea.randint(1,25))\n",
    "print(conjunto)\n"
   ]
  },
  {
   "cell_type": "markdown",
   "metadata": {},
   "source": [
    "## Comprueba la longitud de tu set"
   ]
  },
  {
   "cell_type": "code",
   "execution_count": 97,
   "metadata": {},
   "outputs": [
    {
     "name": "stdout",
     "output_type": "stream",
     "text": [
      "Longitud del set:  100\n"
     ]
    }
   ],
   "source": [
    "ls=len(conjunto)\n",
    "print(\"Longitud del set: \",ls)"
   ]
  },
  {
   "cell_type": "markdown",
   "metadata": {},
   "source": [
    "## Crea una lista de 5 numeros aleatorios del 1 al 10 y comprueba si cada valor aparece en el set inicial"
   ]
  },
  {
   "cell_type": "code",
   "execution_count": 100,
   "metadata": {},
   "outputs": [
    {
     "name": "stdout",
     "output_type": "stream",
     "text": [
      "[1, 7, 8, 1, 7]\n",
      "El numero  1 si aparece en el set\n",
      "El numero  7 si aparece en el set\n",
      "El numero  8 si aparece en el set\n",
      "El numero  1 si aparece en el set\n",
      "El numero  7 si aparece en el set\n"
     ]
    }
   ],
   "source": [
    "listaconjunto=[]\n",
    "for i in range(1,6):\n",
    "    listaconjunto.append(alea.randint(1,10))\n",
    "print(listaconjunto)\n",
    "\n",
    "for i in range(5):\n",
    "    if listaconjunto[i] in conjunto:\n",
    "        print(\"El numero \",listaconjunto[i],\"si aparece en el set\")\n",
    "    else:\n",
    "        print(\"El numero \",listaconjunto[i],\"no aparece en el set\")"
   ]
  }
 ],
 "metadata": {
  "kernelspec": {
   "display_name": "Python 3",
   "language": "python",
   "name": "python3"
  },
  "language_info": {
   "codemirror_mode": {
    "name": "ipython",
    "version": 3
   },
   "file_extension": ".py",
   "mimetype": "text/x-python",
   "name": "python",
   "nbconvert_exporter": "python",
   "pygments_lexer": "ipython3",
   "version": "3.8.3"
  }
 },
 "nbformat": 4,
 "nbformat_minor": 4
}
